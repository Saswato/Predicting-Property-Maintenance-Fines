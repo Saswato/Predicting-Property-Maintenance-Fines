{
  "cells": [
    {
      "cell_type": "markdown",
      "metadata": {
        "id": "0QpVTL6-1uAv"
      },
      "source": [
        "## Predicting Property Maintenance Fines"
      ]
    },
    {
      "cell_type": "markdown",
      "metadata": {
        "id": "hVXPMSQx1uAw"
      },
      "source": [
        " Blight violations are issued by the city to individuals who allow their properties to remain in a deteriorated condition. Every year, the city of Detroit issues millions of dollars in fines to residents and every year, many of these fines remain unpaid. Enforcing unpaid blight fines is a costly and tedious process, so the city wants to know: how can we increase blight ticket compliance?"
      ]
    },
    {
      "cell_type": "markdown",
      "metadata": {
        "id": "hOsCtIcL1uAw"
      },
      "source": [
        "The first step in answering this question is understanding when and why a resident might fail to comply with a blight ticket. This is where predictive modeling comes in. The task is to predict whether a given blight ticket will be paid on time.\n",
        "Each row in these two files corresponds to a single blight ticket, and includes information about when, why, and to whom each ticket was issued. The target variable is compliance, which is True if the ticket was paid early, on time, or within one month of the hearing data, False if the ticket was paid after the hearing date or not at all, and Null if the violator was found not responsible.\n",
        "File descriptions (Use only this data for training your model!)\n",
        "\n",
        "train.csv - the training set (all tickets issued 2004-2011)\n",
        "\n",
        "\n",
        "## Data fields\n",
        "\n",
        "[train.csv](https://drive.google.com/file/d/1u0mnYEoKCAQoYrX9takG_cQ_biOE6DVe/view?usp=sharing) {Find data here}\n",
        "\n",
        "    ticket_id - unique identifier for tickets\n",
        "    agency_name - Agency that issued the ticket\n",
        "    inspector_name - Name of inspector that issued the ticket\n",
        "    violator_name - Name of the person/organization that the ticket was issued toticket_id - unique identifier for tickets\n",
        "    agency_name - Agency that issued the ticket\n",
        "\tviolation_street_number, violation_street_name, violation_zip_code - Address where the violation occurred\n",
        "\tmailing_address_str_number, mailing_address_str_name, city, state, zip_code, non_us_str_code, country - Mailing address of the violator\n",
        "\tticket_issued_date - Date and time the ticket was issued\n",
        "\thearing_date - Date and time the violator's hearing was scheduled\n",
        "\tviolation_code, violation_description - Type of violation\n",
        "\tdisposition - Judgment and judgement type\n",
        "\tfine_amount - Violation fine amount, excluding fees\n",
        "\tadmin_fee - $20 fee assigned to responsible judgments\n",
        "    state_fee - $10 fee assigned to responsible judgments\n",
        "    late_fee - 10% fee assigned to responsible judgments\n",
        "    discount_amount - discount applied, if any\n",
        "    clean_up_cost - DPW clean-up or graffiti removal cost\n",
        "    judgment_amount - Sum of all fines and fees\n",
        "    grafitti_status - Flag for graffiti violations\n",
        "    \n",
        "\tpayment_amount - Amount paid, if any\n",
        "\tpayment_date - Date payment was made, if it was received\n",
        "\tpayment_status - Current payment status as of Feb 1 2017\n",
        "\tbalance_due - Fines and fees still owed\n",
        "\tcollection_status - Flag for payments in collections\n",
        "\tcompliance [target variable for prediction] \n",
        "\tNull = Not responsible\n",
        "\t0 = Responsible, non-compliant\n",
        "\t1 = Responsible, compliant\n",
        "\tcompliance_detail - More information on why each ticket was marked compliant or non-compliant\n",
        "\n",
        "\n",
        "\n",
        "## Evaluation\n",
        "\n",
        "The evaluation metric for this assignment is the Area Under the ROC Curve (AUC)."
      ]
    },
    {
      "cell_type": "markdown",
      "metadata": {
        "id": "KdSf3XVQ1uAx"
      },
      "source": [
        "##Read data from the csv files.remove records which have compliance as null"
      ]
    },
    {
      "cell_type": "code",
      "execution_count": null,
      "metadata": {
        "id": "Ot8YfDtc1uAx",
        "outputId": "498cfd24-7e8f-4ddb-9e26-b8483b5d066a"
      },
      "outputs": [
        {
          "name": "stderr",
          "output_type": "stream",
          "text": [
            "C:\\Users\\shash\\Anaconda3\\lib\\site-packages\\IPython\\core\\interactiveshell.py:3072: DtypeWarning: Columns (11,12,31) have mixed types.Specify dtype option on import or set low_memory=False.\n",
            "  interactivity=interactivity, compiler=compiler, result=result)\n"
          ]
        }
      ],
      "source": [
        "import pandas as pd\n",
        "import numpy as np\n",
        "import math\n",
        "from sklearn.ensemble import RandomForestClassifier\n",
        "from sklearn.model_selection import train_test_split\n",
        "from sklearn.metrics import roc_auc_score\n",
        "from sklearn.metrics import roc_curve, auc\n",
        "from mlxtend.feature_selection import SequentialFeatureSelector as SFS\n",
        "from sklearn.ensemble import GradientBoostingClassifier as XGB\n"
      ]
    },
    {
      "cell_type": "code",
      "source": [
        "\n",
        "train = pd.read_csv(r'train.csv',encoding='latin1',parse_dates=[14, 15, 28])\n",
        "train=train[train['compliance'].isnull()==False]\n",
        "train.set_index('ticket_id',inplace=True)"
      ],
      "metadata": {
        "id": "AOzcv0OB12K1"
      },
      "execution_count": null,
      "outputs": []
    },
    {
      "cell_type": "markdown",
      "metadata": {
        "id": "78o9TgDH1uAy"
      },
      "source": [
        "## Adding a derived field "
      ]
    },
    {
      "cell_type": "code",
      "execution_count": null,
      "metadata": {
        "id": "Jgmq1KOF1uAy"
      },
      "outputs": [],
      "source": [
        "\n",
        "#Adding derived field\n",
        "train['hearing_days'] = (train['hearing_date']-train['ticket_issued_date']).dt.days\n",
        "train['hearing_days'].fillna(value=0, inplace=True)\n",
        "train['hearing_days'] = train['hearing_days'].astype(int)\n",
        "\n",
        "\n",
        "y = train['compliance']\n",
        "\n",
        "X = train[['fine_amount', 'late_fee', 'discount_amount' ,'judgment_amount',\n",
        "           'hearing_days','disposition','country','agency_name']]"
      ]
    },
    {
      "cell_type": "markdown",
      "metadata": {
        "id": "dBmzWfCk1uAz"
      },
      "source": [
        "## Train test split the data with 80:20 train set to test set ratio.\n",
        "##Scaling the features using min max algo"
      ]
    },
    {
      "cell_type": "code",
      "execution_count": null,
      "metadata": {
        "id": "J3m6IVHT1uAz",
        "outputId": "2a760383-29dd-4e4a-a3d7-8c199096aed6"
      },
      "outputs": [
        {
          "name": "stderr",
          "output_type": "stream",
          "text": [
            "C:\\Users\\shash\\Anaconda3\\lib\\site-packages\\ipykernel_launcher.py:10: SettingWithCopyWarning: \n",
            "A value is trying to be set on a copy of a slice from a DataFrame.\n",
            "Try using .loc[row_indexer,col_indexer] = value instead\n",
            "\n",
            "See the caveats in the documentation: https://pandas.pydata.org/pandas-docs/stable/user_guide/indexing.html#returning-a-view-versus-a-copy\n",
            "  # Remove the CWD from sys.path while we load stuff.\n",
            "C:\\Users\\shash\\Anaconda3\\lib\\site-packages\\ipykernel_launcher.py:13: SettingWithCopyWarning: \n",
            "A value is trying to be set on a copy of a slice from a DataFrame.\n",
            "Try using .loc[row_indexer,col_indexer] = value instead\n",
            "\n",
            "See the caveats in the documentation: https://pandas.pydata.org/pandas-docs/stable/user_guide/indexing.html#returning-a-view-versus-a-copy\n",
            "  del sys.path[0]\n"
          ]
        }
      ],
      "source": [
        "#train test fit\n",
        "X_train, X_test, y_train, y_test = train_test_split (X, y, test_size = 0.2, random_state =0)\n",
        "\n",
        "#Scaling using min max algo\n",
        "list = ['fine_amount', 'late_fee', 'discount_amount' ,'judgment_amount', 'hearing_days']\n",
        "\n",
        "for feature_name in list:\n",
        "    max_value = X_train[feature_name].max()\n",
        "    min_value = X_train[feature_name].min()\n",
        "    X_train[feature_name] = (X_train[feature_name] - min_value) / (max_value - min_value)\n",
        "    max_value = X_test[feature_name].max()\n",
        "    min_value = X_test[feature_name].min()\n",
        "    X_test[feature_name] = (X_test[feature_name] - min_value) / (max_value - min_value)\n",
        "    "
      ]
    },
    {
      "cell_type": "markdown",
      "metadata": {
        "id": "X2YSuC921uAz"
      },
      "source": [
        "## Adding dummy variables for categorical features"
      ]
    },
    {
      "cell_type": "code",
      "execution_count": null,
      "metadata": {
        "id": "vhiB27gl1uAz"
      },
      "outputs": [],
      "source": [
        "#Adding dummy variables\n",
        "\n",
        "list=['disposition','country','agency_name']\n",
        "\n",
        "for i in range(len(list)): \n",
        "     dummy=pd.get_dummies( X_train[list[i]])\n",
        "     #print(dummy)\n",
        "     X_train=X_train.merge(dummy, on='ticket_id')\n"
      ]
    },
    {
      "cell_type": "code",
      "execution_count": null,
      "metadata": {
        "id": "WLr_iJlt1uA0"
      },
      "outputs": [],
      "source": [
        "       \n",
        "for j in range(len(list)):        \n",
        "     dummy=pd.get_dummies( X_test[list[j]])\n",
        "     #print(dummy)\n",
        "     X_test=X_test.merge(dummy, on='ticket_id')        \n",
        "\n",
        "#Removing redundant features\n",
        "\n",
        "X_train.drop(['disposition','country','agency_name'], axis =1, inplace = True)\n",
        "\n",
        "X_test.drop(['disposition','country','agency_name'], axis =1, inplace = True)\n"
      ]
    },
    {
      "cell_type": "code",
      "execution_count": null,
      "metadata": {
        "id": "pZCKJWav1uA0",
        "outputId": "652c569f-5f19-4984-80c5-12eeff284f0f"
      },
      "outputs": [
        {
          "data": {
            "text/plain": [
              "19"
            ]
          },
          "execution_count": 6,
          "metadata": {},
          "output_type": "execute_result"
        }
      ],
      "source": [
        "#Adding missing columns in X_test\n",
        "\n",
        "a = X_train.columns\n",
        "b = X_test.columns\n",
        "\n",
        "left = [item for item in a if item not in b]\n",
        "\n",
        "for i in left:\n",
        "    X_test[i] = 0\n",
        "    \n",
        "len(X_test.columns)"
      ]
    },
    {
      "cell_type": "markdown",
      "metadata": {
        "id": "ZZPPvbBB1uA0"
      },
      "source": [
        "## Use of Sequential Forward Selection  method with RandomForest Classifier\n",
        "## By passing a range of features from 1 - 12 , the score corresponding to the no. of features is calculated."
      ]
    },
    {
      "cell_type": "code",
      "execution_count": null,
      "metadata": {
        "id": "a9bqQesi1uA0",
        "outputId": "c748e4d1-4bcc-44a6-fb40-265e71001cfd"
      },
      "outputs": [
        {
          "name": "stderr",
          "output_type": "stream",
          "text": [
            "[Parallel(n_jobs=-1)]: Using backend LokyBackend with 8 concurrent workers.\n",
            "[Parallel(n_jobs=-1)]: Done  14 out of  19 | elapsed:   45.8s remaining:   16.3s\n",
            "[Parallel(n_jobs=-1)]: Done  19 out of  19 | elapsed:   52.9s finished\n",
            "\n",
            "[2020-07-24 00:19:13] Features: 1/12 -- score: 0.9344508376926918[Parallel(n_jobs=-1)]: Using backend LokyBackend with 8 concurrent workers.\n",
            "[Parallel(n_jobs=-1)]: Done  13 out of  18 | elapsed:   40.9s remaining:   15.7s\n",
            "[Parallel(n_jobs=-1)]: Done  18 out of  18 | elapsed:   47.3s finished\n",
            "\n",
            "[2020-07-24 00:20:01] Features: 2/12 -- score: 0.9357486862013946[Parallel(n_jobs=-1)]: Using backend LokyBackend with 8 concurrent workers.\n",
            "[Parallel(n_jobs=-1)]: Done  11 out of  17 | elapsed:   42.0s remaining:   22.9s\n",
            "[Parallel(n_jobs=-1)]: Done  17 out of  17 | elapsed:   46.9s finished\n",
            "\n",
            "[2020-07-24 00:20:48] Features: 3/12 -- score: 0.9357486862013946[Parallel(n_jobs=-1)]: Using backend LokyBackend with 8 concurrent workers.\n",
            "[Parallel(n_jobs=-1)]: Done  10 out of  16 | elapsed:  1.1min remaining:   39.8s\n",
            "[Parallel(n_jobs=-1)]: Done  16 out of  16 | elapsed:  1.2min finished\n",
            "\n",
            "[2020-07-24 00:21:58] Features: 4/12 -- score: 0.944208159716777[Parallel(n_jobs=-1)]: Using backend LokyBackend with 8 concurrent workers.\n",
            "[Parallel(n_jobs=-1)]: Done   8 out of  15 | elapsed:   54.2s remaining:   47.4s\n",
            "[Parallel(n_jobs=-1)]: Done  15 out of  15 | elapsed:  1.2min finished\n",
            "\n",
            "[2020-07-24 00:23:11] Features: 5/12 -- score: 0.9442394334775087[Parallel(n_jobs=-1)]: Using backend LokyBackend with 8 concurrent workers.\n",
            "[Parallel(n_jobs=-1)]: Done   7 out of  14 | elapsed:   39.1s remaining:   39.1s\n",
            "[Parallel(n_jobs=-1)]: Done  14 out of  14 | elapsed:  1.2min finished\n",
            "\n",
            "[2020-07-24 00:24:21] Features: 6/12 -- score: 0.9442394334775087[Parallel(n_jobs=-1)]: Using backend LokyBackend with 8 concurrent workers.\n",
            "[Parallel(n_jobs=-1)]: Done   5 out of  13 | elapsed:   43.6s remaining:  1.2min\n",
            "[Parallel(n_jobs=-1)]: Done  13 out of  13 | elapsed:  1.2min finished\n",
            "\n",
            "[2020-07-24 00:25:34] Features: 7/12 -- score: 0.9442394334775087[Parallel(n_jobs=-1)]: Using backend LokyBackend with 8 concurrent workers.\n",
            "[Parallel(n_jobs=-1)]: Done   4 out of  12 | elapsed:   41.9s remaining:  1.4min\n",
            "[Parallel(n_jobs=-1)]: Done  12 out of  12 | elapsed:  1.1min finished\n",
            "\n",
            "[2020-07-24 00:26:39] Features: 8/12 -- score: 0.9442394334775087[Parallel(n_jobs=-1)]: Using backend LokyBackend with 8 concurrent workers.\n",
            "[Parallel(n_jobs=-1)]: Done   2 out of  11 | elapsed:   49.9s remaining:  3.7min\n",
            "[Parallel(n_jobs=-1)]: Done   8 out of  11 | elapsed:  1.0min remaining:   22.8s\n",
            "[Parallel(n_jobs=-1)]: Done  11 out of  11 | elapsed:  1.2min finished\n",
            "\n",
            "[2020-07-24 00:27:51] Features: 9/12 -- score: 0.9442394334775087[Parallel(n_jobs=-1)]: Using backend LokyBackend with 8 concurrent workers.\n",
            "[Parallel(n_jobs=-1)]: Done   7 out of  10 | elapsed:   52.0s remaining:   22.2s\n",
            "[Parallel(n_jobs=-1)]: Done  10 out of  10 | elapsed:  1.1min finished\n",
            "\n",
            "[2020-07-24 00:28:59] Features: 10/12 -- score: 0.9442394334775087[Parallel(n_jobs=-1)]: Using backend LokyBackend with 8 concurrent workers.\n",
            "[Parallel(n_jobs=-1)]: Done   4 out of   9 | elapsed:   54.1s remaining:  1.1min\n",
            "[Parallel(n_jobs=-1)]: Done   9 out of   9 | elapsed:  1.1min remaining:    0.0s\n",
            "[Parallel(n_jobs=-1)]: Done   9 out of   9 | elapsed:  1.1min finished\n",
            "\n",
            "[2020-07-24 00:30:03] Features: 11/12 -- score: 0.9442394334775087[Parallel(n_jobs=-1)]: Using backend LokyBackend with 8 concurrent workers.\n",
            "[Parallel(n_jobs=-1)]: Done   3 out of   8 | elapsed:   53.1s remaining:  1.5min\n",
            "[Parallel(n_jobs=-1)]: Done   8 out of   8 | elapsed:   57.6s remaining:    0.0s\n",
            "[Parallel(n_jobs=-1)]: Done   8 out of   8 | elapsed:   57.6s finished\n",
            "\n",
            "[2020-07-24 00:31:01] Features: 12/12 -- score: 0.9442394334775087"
          ]
        }
      ],
      "source": [
        "#Sequential Forward Selection  for RandomForestClassifier\n",
        "sfs = SFS(RandomForestClassifier(n_estimators = 100, random_state = 0, n_jobs = -1), k_features = (1,12),\n",
        "         forward = True, floating = False, scoring = 'accuracy', cv = 3, n_jobs = -1, verbose = 2).fit(X_train,y_train)\n",
        "\n",
        "#Below the score of the classifier for every feature"
      ]
    },
    {
      "cell_type": "markdown",
      "metadata": {
        "id": "6c4tQj5r1uA0"
      },
      "source": [
        "## Best score from the above Wrapper method"
      ]
    },
    {
      "cell_type": "code",
      "execution_count": null,
      "metadata": {
        "id": "d66HRt6W1uA0",
        "outputId": "a20962b7-4182-4fc6-fad7-1801dcdf3353"
      },
      "outputs": [
        {
          "data": {
            "text/plain": [
              "0.9442394334775087"
            ]
          },
          "execution_count": 8,
          "metadata": {},
          "output_type": "execute_result"
        }
      ],
      "source": [
        "#Best score\n",
        "sfs.k_score_"
      ]
    },
    {
      "cell_type": "markdown",
      "metadata": {
        "id": "rbW8SJYi1uA0"
      },
      "source": [
        "## Checking the features that give the best score"
      ]
    },
    {
      "cell_type": "code",
      "execution_count": null,
      "metadata": {
        "id": "drAKi74H1uA0",
        "outputId": "0486cdfd-d89a-4895-f5ec-657b0013f835"
      },
      "outputs": [
        {
          "data": {
            "text/plain": [
              "('late_fee',\n",
              " 'discount_amount',\n",
              " 'Responsible (Fine Waived) by Deter',\n",
              " 'Responsible by Admission',\n",
              " 'Responsible by Default')"
            ]
          },
          "execution_count": 9,
          "metadata": {},
          "output_type": "execute_result"
        }
      ],
      "source": [
        "#Features that give best score\n",
        "sfs.k_feature_names_"
      ]
    },
    {
      "cell_type": "markdown",
      "metadata": {
        "id": "bbgTxXw21uA0"
      },
      "source": [
        "## Training the RandomForestClassifier with the above mentioned features"
      ]
    },
    {
      "cell_type": "code",
      "execution_count": null,
      "metadata": {
        "id": "MuQdXc0s1uA1"
      },
      "outputs": [],
      "source": [
        "#Subset of best features\n",
        "X_test1 = X_test[['late_fee',\n",
        " 'discount_amount',\n",
        " 'Responsible (Fine Waived) by Deter',\n",
        " 'Responsible by Admission',\n",
        " 'Responsible by Default']]\n",
        "\n",
        "X_train1 = X_train[['late_fee',\n",
        " 'discount_amount',\n",
        " 'Responsible (Fine Waived) by Deter',\n",
        " 'Responsible by Admission',\n",
        " 'Responsible by Default']]\n",
        "\n",
        "#Train\n",
        "rf = RandomForestClassifier(n_estimators = 100, random_state = 0, n_jobs = -1).fit(X_train1,y_train)"
      ]
    },
    {
      "cell_type": "markdown",
      "metadata": {
        "id": "8bGBCVqZ1uA1"
      },
      "source": [
        "## Checking the AUC score for the test set."
      ]
    },
    {
      "cell_type": "code",
      "execution_count": null,
      "metadata": {
        "id": "DuJdaTd-1uA1",
        "outputId": "21d97219-14fc-47e9-cf96-bc51e5e1e375"
      },
      "outputs": [
        {
          "data": {
            "text/plain": [
              "0.7916478421693943"
            ]
          },
          "execution_count": 11,
          "metadata": {},
          "output_type": "execute_result"
        }
      ],
      "source": [
        "#test score after prediction\n",
        "\n",
        "predictions_1 = rf.predict_proba(X_test1)[:,1]\n",
        "auc_1 = roc_auc_score(y_test, predictions_1)\n",
        "\n",
        "auc_1"
      ]
    },
    {
      "cell_type": "markdown",
      "metadata": {
        "id": "jplghstm1uA1"
      },
      "source": [
        "The process can be repeated for other classification algorithm as well."
      ]
    }
  ],
  "metadata": {
    "kernelspec": {
      "display_name": "Python 3",
      "language": "python",
      "name": "python3"
    },
    "language_info": {
      "codemirror_mode": {
        "name": "ipython",
        "version": 3
      },
      "file_extension": ".py",
      "mimetype": "text/x-python",
      "name": "python",
      "nbconvert_exporter": "python",
      "pygments_lexer": "ipython3",
      "version": "3.7.6"
    },
    "colab": {
      "provenance": []
    }
  },
  "nbformat": 4,
  "nbformat_minor": 0
}